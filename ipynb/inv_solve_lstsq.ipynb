{
  "nbformat": 4,
  "nbformat_minor": 0,
  "metadata": {
    "colab": {
      "name": "inv_solve_lstsq.ipynb",
      "provenance": [],
      "collapsed_sections": [],
      "authorship_tag": "ABX9TyNePNzMA5UKuUwziQlk+Hnj",
      "include_colab_link": true
    },
    "kernelspec": {
      "name": "python3",
      "display_name": "Python 3"
    }
  },
  "cells": [
    {
      "cell_type": "markdown",
      "metadata": {
        "id": "view-in-github",
        "colab_type": "text"
      },
      "source": [
        "<a href=\"https://colab.research.google.com/github/davidwhogg/FlexibleLinearModels/blob/main/ipynb/inv_solve_lstsq.ipynb\" target=\"_parent\"><img src=\"https://colab.research.google.com/assets/colab-badge.svg\" alt=\"Open In Colab\"/></a>"
      ]
    },
    {
      "cell_type": "markdown",
      "metadata": {
        "id": "zoEFit95O5bU"
      },
      "source": [
        "# Comparing `inv(A) @ b` with `solve(A, b)` with `lstsq(A, b)`\n",
        "\n",
        "**David W Hogg** (Flatiron) (NYU) (MPIA)\n",
        "\n",
        "Check this shit out. Should we be using `lstsq()`?\n",
        "\n",
        "In addition, on the face of it, these results appear to conflict with the abstract of https://arxiv.org/abs/1201.6035. I have not yet actually read that paper, so I don't know whether there is any *real* conflict."
      ]
    },
    {
      "cell_type": "code",
      "metadata": {
        "id": "-Xt1VMC9NEQS"
      },
      "source": [
        "import numpy as np\n",
        "import pylab as plt\n",
        "np.random.seed(17)\n",
        "%matplotlib inline"
      ],
      "execution_count": null,
      "outputs": []
    },
    {
      "cell_type": "code",
      "metadata": {
        "colab": {
          "base_uri": "https://localhost:8080/"
        },
        "id": "mE1YB2sONK8r",
        "outputId": "c5d61944-9839-4105-9904-82a82aa1bc61"
      },
      "source": [
        "# make a challenging matrix\n",
        "n = 32\n",
        "m = n\n",
        "foo = np.random.normal(size=(n, m))\n",
        "A = foo @ foo.T\n",
        "u, s, v = np.linalg.svd(A)\n",
        "A = u * s ** 6 @ v\n",
        "print(np.linalg.cond(A))"
      ],
      "execution_count": null,
      "outputs": [
        {
          "output_type": "stream",
          "text": [
            "1.003674266572795e+18\n"
          ],
          "name": "stdout"
        }
      ]
    },
    {
      "cell_type": "code",
      "metadata": {
        "colab": {
          "base_uri": "https://localhost:8080/",
          "height": 298
        },
        "id": "49UHsmeCzv7B",
        "outputId": "b246da57-169a-468f-c624-c3805a0d2daf"
      },
      "source": [
        "plt.plot(np.linalg.eigvalsh(A)[::-1], \"ko\")\n",
        "plt.semilogy()\n",
        "plt.ylabel(\"eigenvalue of A\")\n",
        "plt.xlabel(\"component\")"
      ],
      "execution_count": null,
      "outputs": [
        {
          "output_type": "execute_result",
          "data": {
            "text/plain": [
              "Text(0.5, 0, 'component')"
            ]
          },
          "metadata": {
            "tags": []
          },
          "execution_count": 25
        },
        {
          "output_type": "display_data",
          "data": {
            "image/png": "[encoded data removed]",
            "text/plain": [
              "<Figure size 432x288 with 1 Axes>"
            ]
          },
          "metadata": {
            "tags": [],
            "needs_background": "light"
          }
        }
      ]
    },
    {
      "cell_type": "code",
      "metadata": {
        "colab": {
          "base_uri": "https://localhost:8080/"
        },
        "id": "lZAnkc-ZNhBb",
        "outputId": "c3c0f33e-f5c4-4f67-932e-9662813c5bbb"
      },
      "source": [
        "# make data and truth; nothing adversarial here.\n",
        "truth = np.random.normal(size=n)\n",
        "b = A @ truth\n",
        "print(b.shape)"
      ],
      "execution_count": null,
      "outputs": [
        {
          "output_type": "stream",
          "text": [
            "(32,)\n"
          ],
          "name": "stdout"
        }
      ]
    },
    {
      "cell_type": "code",
      "metadata": {
        "colab": {
          "base_uri": "https://localhost:8080/"
        },
        "id": "ux2nQ73POPLX",
        "outputId": "785ea9c0-4c7c-44a9-f040-4941e34f57ce"
      },
      "source": [
        "# Here is the main result of this notebook\n",
        "x1 = np.linalg.inv(A) @ b\n",
        "print(\"inv, dot:\", np.linalg.norm(x1 - truth))\n",
        "x2 = np.linalg.solve(A, b)\n",
        "print(\"solve:\", np.linalg.norm(x2 - truth))\n",
        "x3 = np.linalg.lstsq(A, b, rcond=None)[0]\n",
        "print(\"lstsq:\", np.linalg.norm(x3 - truth))"
      ],
      "execution_count": null,
      "outputs": [
        {
          "output_type": "stream",
          "text": [
            "inv, dot: 132.43281995593006\n",
            "solve: 21.672818747182383\n",
            "lstsq: 2.866459023213573\n"
          ],
          "name": "stdout"
        }
      ]
    },
    {
      "cell_type": "code",
      "metadata": {
        "id": "Ajsc-FYjOf4r",
        "colab": {
          "base_uri": "https://localhost:8080/"
        },
        "outputId": "38d9f2ac-13d6-4fd3-efc7-95b57f38bf6f"
      },
      "source": [
        "x4 = np.linalg.lstsq(A, b, rcond=1e-12)[0]\n",
        "print(\"lstsq with non-trivial RCOND:\", np.linalg.norm(x4 - truth))"
      ],
      "execution_count": null,
      "outputs": [
        {
          "output_type": "stream",
          "text": [
            "lstsq with non-trivial RCOND: 2.927557322422424\n"
          ],
          "name": "stdout"
        }
      ]
    },
    {
      "cell_type": "code",
      "metadata": {
        "id": "T3hSMhxxQpMR",
        "colab": {
          "base_uri": "https://localhost:8080/"
        },
        "outputId": "bd0a4f0f-2346-40a1-ccbd-fa38f13a13f2"
      },
      "source": [
        "# Holy fuck check this out!\n",
        "x5 = np.linalg.lstsq(A, b, rcond=1.)[0]\n",
        "print(\"lstsq with absolutely absurdly dumb RCOND=1:\", np.linalg.norm(x5 - truth))"
      ],
      "execution_count": null,
      "outputs": [
        {
          "output_type": "stream",
          "text": [
            "lstsq with absolutely absurdly dumb RCOND=1: 2.4505326558280673\n"
          ],
          "name": "stdout"
        }
      ]
    },
    {
      "cell_type": "code",
      "metadata": {
        "id": "L3JuQbJky_ph"
      },
      "source": [
        ""
      ],
      "execution_count": null,
      "outputs": []
    }
  ]
}