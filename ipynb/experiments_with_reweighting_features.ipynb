{
  "nbformat": 4,
  "nbformat_minor": 0,
  "metadata": {
    "colab": {
      "name": "experiments_with_reweighting_features.ipynb",
      "provenance": [],
      "collapsed_sections": [],
      "machine_shape": "hm",
      "include_colab_link": true
    },
    "kernelspec": {
      "display_name": "Python 3",
      "name": "python3"
    }
  },
  "cells": [
    {
      "cell_type": "markdown",
      "metadata": {
        "id": "view-in-github",
        "colab_type": "text"
      },
      "source": [
        "<a href=\"https://colab.research.google.com/github/davidwhogg/FlexibleLinearModels/blob/main/ipynb/experiments_with_reweighting_features.ipynb\" target=\"_parent\"><img src=\"https://colab.research.google.com/assets/colab-badge.svg\" alt=\"Open In Colab\"/></a>"
      ]
    },
    {
      "cell_type": "markdown",
      "metadata": {
        "id": "Xpggye9TxS-s"
      },
      "source": [
        "# Re-weighting features and the connection to GPs\n",
        "\n",
        "## authors\n",
        "- **David W Hogg** *(NYU) (MPIA) (Flatiron)*\n",
        "- **Soledad Villar** *(JHU)*\n",
        "\n",
        "## license\n",
        "Copyright 2020 the authors. All rights reserved (for now).\n",
        "\n",
        "## to-do list\n",
        "- Finish writing the document at https://www.overleaf.com/project/5fa988f4d1e4cade0e8438d9\n",
        "- Reconsider all one-letter variable names.\n",
        "- Perhaps try an L1 regularization, and a weighted L1? (see paper by Ward).\n"
      ]
    },
    {
      "cell_type": "code",
      "metadata": {
        "id": "TZLXl4Vx8WYo"
      },
      "source": [
        "import numpy as np\n",
        "import pylab as plt\n",
        "from scipy.special import gamma\n",
        "%matplotlib inline\n",
        "np.random.seed(17) # (8675309) # MAGIC to enforce reproducibility\n",
        "RCOND = 1e-14 # MAGIC input to `np.linalg.lstsq()`"
      ],
      "execution_count": null,
      "outputs": []
    },
    {
      "cell_type": "code",
      "metadata": {
        "id": "vU445C9n8b1n"
      },
      "source": [
        "# has to be in its own cell?\n",
        "plt.rc('figure', figsize=(6.0, 3.6), dpi=150, autolayout=True)\n",
        "# plt.rc('text', usetex=True)"
      ],
      "execution_count": null,
      "outputs": []
    },
    {
      "cell_type": "code",
      "metadata": {
        "id": "3nFoDb0sUdpg"
      },
      "source": [
        "def truefunction(ts):\n",
        "  \"\"\"\n",
        "  This function produces the TRUTH, which does not lie in the basis spanned by\n",
        "  the Fourier modes.\n",
        "  \"\"\"\n",
        "  return 1.0 * np.sin(11. * ts) / ts + 1.0 * ts * np.cos(37 * ts) + 0.5 * np.sin(400 * ts)"
      ],
      "execution_count": null,
      "outputs": []
    },
    {
      "cell_type": "code",
      "metadata": {
        "id": "GKC_vp000nof"
      },
      "source": [
        "n = 23\n",
        "T = 1.5 # range\n",
        "deltaomega = 0.5 * np.pi / T # frequency spacing for Fourier series\n",
        "\n",
        "# generate like a Ward\n",
        "ts = T * np.arange(0.5 / n, 1., 1. / n)\n",
        "\n",
        "# generate like a Hogg (harder problem!)\n",
        "# ts = np.sort(T * np.random.uniform(size=n))\n",
        "\n",
        "# generate intermediate between Hogg and Ward\n",
        "# ts = np.sort(T * (np.arange(0.5 / n, 1., 1. / n) + (0.99 / n) * (np.random.uniform(size=n) - 0.5)))\n",
        "\n",
        "Y = truefunction(ts)"
      ],
      "execution_count": null,
      "outputs": []
    },
    {
      "cell_type": "code",
      "metadata": {
        "id": "WnxSeFDpuq0D"
      },
      "source": [
        "nnn = 2048\n",
        "plott = np.arange(0.5 * T / nnn, T, T / nnn)\n",
        "plt.plot(ts, Y, \"ko\", zorder=100)\n",
        "plt.plot(plott, truefunction(plott), \"r-\", alpha=0.4, label=\"truth\")\n",
        "plt.xlim(0., T)\n",
        "plt.ylim(np.min(Y)-1., np.max(Y)+1.)\n",
        "plt.ylabel(r\"$y$\")\n",
        "plt.xlabel(r\"$t$\")\n",
        "plt.title(\"data noiselessly taken from truth\")\n",
        "plt.legend()"
      ],
      "execution_count": null,
      "outputs": []
    },
    {
      "cell_type": "code",
      "metadata": {
        "id": "ON3Fj39I1Cpj"
      },
      "source": [
        "def fourier_design_matrix(ts, deltaomega, p):\n",
        "  \"\"\"\n",
        "  Make the design matrix (feature embedding) for the fit.\n",
        "\n",
        "  ## Notes:\n",
        "  - Makes sin() before cos() to be consistent with the document.\n",
        "  \"\"\"\n",
        "  omegas = np.zeros(p) + np.nan\n",
        "  design_matrix = np.zeros((len(np.atleast_1d(ts)), p))\n",
        "  omegas[0] = 0.\n",
        "  design_matrix[:, 0] = 1.\n",
        "  for j in range(1, p):\n",
        "    omega = np.floor((j + 1.0001) / 2.) * deltaomega\n",
        "    omegas[j] = omega\n",
        "    if j % 2 == 1:\n",
        "      design_matrix[:, j] = np.sin(omega * ts)\n",
        "    else:\n",
        "      design_matrix[:, j] = np.cos(omega * ts)\n",
        "  return design_matrix, omegas"
      ],
      "execution_count": null,
      "outputs": []
    },
    {
      "cell_type": "code",
      "metadata": {
        "id": "RNZbb4Ur2J8E"
      },
      "source": [
        "def train_feature_weighted_ols(xs, ys, ws=None):\n",
        "  n, p = xs.shape\n",
        "  if ws is None:\n",
        "    ws = np.ones(p)\n",
        "  return np.linalg.lstsq(xs * ws[None, :], ys, rcond=RCOND)[0].T * ws\n",
        "\n",
        "def train_wls(xs, ys, ws=None):\n",
        "  n, p = xs.shape\n",
        "  if ws is None:\n",
        "    ws = np.ones(n)\n",
        "  return np.linalg.lstsq(ws[:, None] * xs , ws * ys, rcond=RCOND)[0].T\n",
        "\n",
        "def train_feature_weighted_wls(xs, ys, Lambdadiag=None, Cdiag=None):\n",
        "  n, p = xs.shape\n",
        "  if Lambdadiag is None:\n",
        "    Lambdadiag = np.ones(p)\n",
        "  if Cdiag is None:\n",
        "    Cdiag = np.ones(n)\n",
        "  if p < n:\n",
        "    XTC = xs.T * Cdiag\n",
        "    XTCX = XTC @ xs\n",
        "    XTCX[np.diag_indices(p)] += Lambdadiag\n",
        "    return np.linalg.lstsq(XTCX, XTC @ ys, rcond=RCOND)[0]\n",
        "  LXT = (xs * Lambdadiag).T\n",
        "  XLXT = xs @ LXT\n",
        "  XLXT[np.diag_indices(n)] += Cdiag\n",
        "  return LXT @ np.linalg.lstsq(XLXT, ys, rcond=RCOND)[0]\n",
        "\n",
        "def train_ridge(xs, ys, lamb):\n",
        "  n, p = xs.shape\n",
        "  return np.linalg.solve(xs.T @ xs + lamb * np.eye(p), xs.T @ ys)\n",
        "\n",
        "def weight_function_exp2(omegas, width):\n",
        "  \"\"\"\n",
        "  This function is chosen because we know the F.T. of its square.\n",
        "\n",
        "  ## comments:\n",
        "  - The \"width\" is in spatial separation, so it is really an inverse width here\n",
        "    in Fourier space.\n",
        "\n",
        "  ## bugs:\n",
        "  - Must be synchronized with `kernel_function()`.\n",
        "  \"\"\"\n",
        "  return np.sqrt(np.exp(-0.5 * omegas ** 2 * width ** 2))\n",
        "\n",
        "def kernel_function_exp2(deltat, width, deltaomega=None):\n",
        "  \"\"\"\n",
        "  ## inputs:\n",
        "  - width -- real-space units.\n",
        "\n",
        "  ## optional inputs:\n",
        "  - deltaomega -- if set, make the kernel strictly periodic with this angular\n",
        "                  frequency\n",
        "\n",
        "  ## bugs:\n",
        "  - Must be synchronized with `weight_function()`.\n",
        "  - Pesky `2. * T` out front; what's up with that? It is related to the `0.5`\n",
        "    in `fourier_design_matrix()`.\n",
        "  \"\"\"\n",
        "  denominator = np.sqrt(2. * np.pi * width ** 2)\n",
        "  numerator = 2. * T * np.exp(-0.5 * deltat ** 2 / width ** 2)\n",
        "  if deltaomega is not None:\n",
        "    for dt in np.array([-2. * np.pi / deltaomega, 2. * np.pi / deltaomega]):\n",
        "      numerator += 2. * np.exp(-0.5 * (deltat + dt) ** 2 / width ** 2)\n",
        "  return numerator / denominator\n",
        "\n",
        "def weight_function_exp(omegas, width):\n",
        "  \"\"\"\n",
        "  This function is chosen because we know the F.T. of its square.\n",
        "\n",
        "  ## comments:\n",
        "  - The \"width\" is in spatial separation, so it is really an inverse width here\n",
        "    in Fourier space.\n",
        "\n",
        "  ## bugs:\n",
        "  - Must be synchronized with `kernel_function()`.\n",
        "  \"\"\"\n",
        "  return np.sqrt(np.sqrt(2. / np.pi) / (1. / width + width * omegas ** 2))\n",
        "\n",
        "def kernel_function_exp(deltat, width):\n",
        "  \"\"\"\n",
        "  ## inputs:\n",
        "  - width -- real-space units.\n",
        "\n",
        "  ## optional inputs:\n",
        "  - deltaomega -- if set, make the kernel strictly periodic with this angular\n",
        "                  frequency\n",
        "\n",
        "  ## bugs:\n",
        "  - Must be synchronized with `weight_function()`.\n",
        "  - Pesky `2. * T` out front; what's up with that? It is related to the `0.5`\n",
        "    in `fourier_design_matrix()`.\n",
        "  \"\"\"\n",
        "  return np.exp(-np.abs(deltat) / width)\n",
        "\n",
        "def weight_function_mat32(omegas, width):\n",
        "  \"\"\"\n",
        "  This function is chosen because we know the F.T. of its square.\n",
        "\n",
        "  ## comments:\n",
        "  - The \"width\" is in spatial separation, so it is really an inverse width here\n",
        "    in Fourier space.\n",
        "\n",
        "  ## bugs:\n",
        "  - Must be synchronized with `kernel_function()`.\n",
        "  \"\"\"\n",
        "  return 1. / (width ** 2 * omegas ** 2 + 1.)\n",
        "\n",
        "def kernel_function_mat32(deltat, width):\n",
        "  \"\"\"\n",
        "  ## inputs:\n",
        "  - width -- real-space units.\n",
        "\n",
        "  ## optional inputs:\n",
        "  - deltaomega -- if set, make the kernel strictly periodic with this angular\n",
        "                  frequency\n",
        "\n",
        "  ## bugs:\n",
        "  - Must be synchronized with `weight_function()`.\n",
        "  - Pesky `2. * T` out front; what's up with that? It is related to the `0.5`\n",
        "    in `fourier_design_matrix()`.\n",
        "  \"\"\"\n",
        "  abstoverw = np.abs(deltat) / width\n",
        "  return (np.pi / 8.) * (1. + abstoverw) * np.exp(-abstoverw)\n",
        "\n",
        "weight_function = weight_function_mat32\n",
        "kernel_function = kernel_function_mat32\n",
        "width = 0.05 # t-space width of the kernel"
      ],
      "execution_count": null,
      "outputs": []
    },
    {
      "cell_type": "code",
      "metadata": {
        "id": "-A-VwQZEzV-B"
      },
      "source": [
        "# plot a few basis functions\n",
        "cs = [(0.0, 0.0, 0.0),\n",
        "      (0.0, 0.0, 0.3),\n",
        "      (0.0, 0.2, 0.0),\n",
        "      (0.0, 0.2, 0.3),\n",
        "      (0.3, 0.0, 0.0),\n",
        "      (0.3, 0.0, 0.3),\n",
        "      (0.3, 0.2, 0.0),\n",
        "      (0.3, 0.2, 0.3),\n",
        "      #(0.0, 0.0, 0.6),\n",
        "      (0.0, 0.0, 0.9),\n",
        "      (0.0, 0.2, 0.6),\n",
        "      (0.0, 0.2, 0.9),\n",
        "      (0.3, 0.0, 0.6),\n",
        "      (0.3, 0.0, 0.9),\n",
        "      (0.3, 0.2, 0.6),\n",
        "      (0.3, 0.2, 0.9)]\n",
        "js = [0, 1, 2, 3, 5, 16, 41, 511]\n",
        "plotX, _ = fourier_design_matrix(plott, deltaomega, np.max(js) + 2)\n",
        "for i, j in enumerate(js):\n",
        "  plt.plot(plott, plotX[:,j] + 2 * len(js) - 2 * i,\n",
        "           ls=\"-\", color=cs[i], alpha=0.9 - 0.08 * i,\n",
        "           label=r\"$g_{{{}}}(t)$\".format(j + 1))\n",
        "plt.xlim(0., T)\n",
        "plt.xlabel(r\"$t$\")\n",
        "plt.ylabel(\"basis function plus offset\")\n",
        "plt.title(\"a few examples from the Fourier basis\")\n",
        "plt.gca().set_yticklabels([])\n",
        "plt.legend(loc=\"right\")\n",
        "plt.savefig(\"fourier.pdf\")"
      ],
      "execution_count": null,
      "outputs": []
    },
    {
      "cell_type": "code",
      "metadata": {
        "id": "tpe3FmXCWuH7"
      },
      "source": [
        ""
      ],
      "execution_count": null,
      "outputs": []
    },
    {
      "cell_type": "code",
      "metadata": {
        "id": "7hAnVKpY2lBM"
      },
      "source": [
        "# get ready to plot different p values\n",
        "pps = [3, 7, 21, 30, 73, 2049]\n",
        "betas = []\n",
        "for p in pps:\n",
        "  X, omegas = fourier_design_matrix(ts, deltaomega, p)\n",
        "  betas.append(train_feature_weighted_ols(X, Y))"
      ],
      "execution_count": null,
      "outputs": []
    },
    {
      "cell_type": "code",
      "metadata": {
        "id": "n0VqAAfMghlj"
      },
      "source": [
        "plt.plot(ts, Y, \"ko\", zorder=100)\n",
        "for i, (beta, p) in enumerate(zip(betas, pps)):\n",
        "  if p < n:\n",
        "    plotX, _ = fourier_design_matrix(plott, deltaomega, p)\n",
        "    plt.plot(plott, plotX @ beta, ls=\"-\", color=cs[i], alpha=0.9 - 0.25 * i, label=\"$p = {}$\".format(p))\n",
        "plt.xlim(0., T)\n",
        "plt.ylim(np.min(Y)-1., np.max(Y)+1.)\n",
        "plt.xlabel(\"$t$\")\n",
        "plt.ylabel(\"$y$\")\n",
        "plt.title(r\"OLS with $p < n$\")\n",
        "plt.legend()\n",
        "plt.savefig(\"OLS-under.pdf\")"
      ],
      "execution_count": null,
      "outputs": []
    },
    {
      "cell_type": "code",
      "metadata": {
        "id": "f_IlmczZ5Cfl"
      },
      "source": [
        "plt.plot(ts, Y, \"ko\", zorder=100)\n",
        "j = 0\n",
        "for i, (beta, p) in enumerate(zip(betas, pps)):\n",
        "  if p > n:\n",
        "    plotX, _ = fourier_design_matrix(plott, deltaomega, p)\n",
        "    plt.plot(plott, plotX @ beta, ls=\"-\", color=cs[j], alpha=0.9 - 0.25 * j, label=\"$p = {}$\".format(p))\n",
        "    j += 1\n",
        "plt.xlim(0., T)\n",
        "plt.ylim(np.min(Y)-1., np.max(Y)+1.)\n",
        "plt.xlabel(\"$t$\")\n",
        "plt.ylabel(\"$y$\")\n",
        "plt.title(r\"OLS with $p > n$\")\n",
        "plt.legend()\n",
        "plt.savefig(\"OLS-over.pdf\")"
      ],
      "execution_count": null,
      "outputs": []
    },
    {
      "cell_type": "code",
      "metadata": {
        "id": "RGnV9SBDf8aE"
      },
      "source": [
        "# get ready to plot OLS v WLS\n",
        "p = 3\n",
        "X, omegas = fourier_design_matrix(ts, deltaomega, p)\n",
        "print(ts.shape, X.shape, Y.shape, omegas.shape)\n",
        "beta_default = train_feature_weighted_ols(X, Y)\n",
        "errs = 5. / (np.arange(n) + 2.) + 0.25\n",
        "errs[0:2] *= 6.\n",
        "Cdiag = errs ** 2\n",
        "beta_underp = train_wls(X, Y, 1. / Cdiag)"
      ],
      "execution_count": null,
      "outputs": []
    },
    {
      "cell_type": "code",
      "metadata": {
        "id": "q0SeBuMO2txh"
      },
      "source": [
        "plotX, _ = fourier_design_matrix(plott, deltaomega, p)\n",
        "plt.errorbar(ts, Y, yerr=np.sqrt(Cdiag), color='k', fmt=\"o\", lw=0.5)\n",
        "plt.plot(plott, plotX @ beta_default, \"k-\", alpha=0.4, label=\"OLS\")\n",
        "plt.plot(plott, plotX @ beta_underp, \"k-\", alpha=0.9, label=\"WLS\")\n",
        "plt.xlim(0., T)\n",
        "plt.ylim(np.min(Y)-1., np.max(Y)+1.)\n",
        "plt.xlabel(\"$t$\")\n",
        "plt.ylabel(\"$y$\")\n",
        "plt.title(\"$p = {}$\".format(p))\n",
        "plt.legend()\n",
        "plt.savefig(\"WLS.pdf\")"
      ],
      "execution_count": null,
      "outputs": []
    },
    {
      "cell_type": "code",
      "metadata": {
        "id": "1_khfJBhcg6V"
      },
      "source": [
        "p = 21\n",
        "X, omegas = fourier_design_matrix(ts, deltaomega, p)\n",
        "print(ts.shape, X.shape, Y.shape, omegas.shape)\n",
        "beta_default = train_feature_weighted_ols(X, Y)\n",
        "lamb = 0.1\n",
        "beta_ridge = train_ridge(X, Y, 0.1)"
      ],
      "execution_count": null,
      "outputs": []
    },
    {
      "cell_type": "code",
      "metadata": {
        "id": "5xwMxxIHb_3u"
      },
      "source": [
        "plotX, _ = fourier_design_matrix(plott, deltaomega, p)\n",
        "plt.plot(ts, Y, \"ko\", zorder=100)\n",
        "plt.plot(plott, plotX @ beta_default, \"k-\", alpha=0.4, label=\"OLS\")\n",
        "plt.plot(plott, plotX @ beta_ridge, \"k-\", alpha=0.9, label=\"ridge regression\")\n",
        "plt.xlim(0., T)\n",
        "plt.ylim(np.min(Y)-1., np.max(Y)+1.)\n",
        "plt.xlabel(\"$t$\")\n",
        "plt.ylabel(\"$y$\")\n",
        "plt.title(\"$p = {}$\".format(p))\n",
        "plt.legend()\n",
        "plt.savefig(\"ridge.pdf\")"
      ],
      "execution_count": null,
      "outputs": []
    },
    {
      "cell_type": "code",
      "metadata": {
        "id": "D-cxh6j0c-F5"
      },
      "source": [
        "p = 1024\n",
        "X, omegas = fourier_design_matrix(ts, deltaomega, p)\n",
        "print(ts.shape, X.shape, Y.shape, omegas.shape)\n",
        "beta_default = train_feature_weighted_ols(X, Y)\n",
        "beta_smooth = train_feature_weighted_ols(X, Y, weight_function(omegas, width))\n",
        "Lambdadiag = 0.07 * weight_function(omegas, width) ** 2 # MAGIC 0.07\n",
        "beta_CLambda = train_feature_weighted_wls(X, Y, Lambdadiag, Cdiag)"
      ],
      "execution_count": null,
      "outputs": []
    },
    {
      "cell_type": "code",
      "metadata": {
        "id": "YQc4ej8TdM2w"
      },
      "source": [
        "plotX, _ = fourier_design_matrix(plott, deltaomega, p)\n",
        "plt.plot(ts, Y, \"ko\", zorder=100)\n",
        "plt.plot(plott, plotX @ beta_default, \"k-\", alpha=0.4, label=\"OLS\")\n",
        "plt.plot(plott, plotX @ beta_smooth, \"k-\", alpha=0.9, label=r\"OLS with feature weights $(s^2\\,\\omega^2 + 1)^{-1}$\")\n",
        "plt.xlim(0., T)\n",
        "plt.ylim(np.min(Y)-1., np.max(Y)+1.)\n",
        "plt.xlabel(\"$t$\")\n",
        "plt.ylabel(\"$y$\")\n",
        "plt.title(\"$p = {}$\".format(p))\n",
        "plt.legend()\n",
        "plt.savefig(\"weighted-OLS.pdf\")"
      ],
      "execution_count": null,
      "outputs": []
    },
    {
      "cell_type": "code",
      "metadata": {
        "id": "y2JsC4P5qzmr"
      },
      "source": [
        "plotX, _ = fourier_design_matrix(plott, deltaomega, p)\n",
        "plt.errorbar(ts, Y, yerr=np.sqrt(Cdiag), color='k', fmt=\"o\", lw=0.5)\n",
        "plt.plot(plott, plotX @ beta_smooth, \"k-\", alpha=0.4, label=r\"OLS with feature weights $(s^2\\,\\omega^2 + 1)^{-1}$\")\n",
        "plt.plot(plott, plotX @ beta_CLambda, \"k-\", alpha=0.9, label=\"WLS with both data and feature weights\")\n",
        "plt.xlim(0., T)\n",
        "plt.ylim(np.min(Y)-1., np.max(Y)+1.)\n",
        "plt.xlabel(\"$t$\")\n",
        "plt.ylabel(\"$y$\")\n",
        "plt.title(\"$p = {}$\".format(p))\n",
        "plt.legend()\n",
        "plt.savefig(\"weighted-WLS.pdf\")"
      ],
      "execution_count": null,
      "outputs": []
    },
    {
      "cell_type": "code",
      "metadata": {
        "id": "oCczEANNNBr3"
      },
      "source": [
        "# set up for GP execution\n",
        "deltats = ts[:, None] - ts[None, :]\n",
        "kernel_matrix = kernel_function(deltats, width)\n",
        "plotdeltas = plott[:, None] - ts[None, :]\n",
        "rectangular_kernel = kernel_function(plotdeltas, width)\n",
        "print(rectangular_kernel.shape, kernel_matrix.shape, np.linalg.cond(kernel_matrix))\n",
        "# execute GP\n",
        "gp_y = rectangular_kernel @ np.linalg.lstsq(kernel_matrix, Y, rcond=RCOND)[0]\n",
        "gp_mse = np.mean((gp_y - truefunction(plott)) ** 2)"
      ],
      "execution_count": null,
      "outputs": []
    },
    {
      "cell_type": "code",
      "metadata": {
        "id": "BF2gRSUYPCq1"
      },
      "source": [
        "plt.plot(ts, Y, \"ko\", zorder=100)\n",
        "plt.plot(plott, plotX @ beta_default, \"k-\", alpha=0.4, label=\"OLS\")\n",
        "plt.plot(plott, plotX @ beta_smooth, \"k-\", alpha=0.9, label=r\"OLS with feature weights $(s^2\\,\\omega^2 + 1)^{-1}$\")\n",
        "plt.plot(plott, gp_y, \"r-\", lw=4, alpha=0.4, label=r\"GP with Matérn $3/2$ kernel\")\n",
        "plt.ylabel(\"$y$\")\n",
        "plt.xlim(0., T)\n",
        "plt.ylim(np.min(Y)-1., np.max(Y)+1.)\n",
        "plt.xlabel(\"$t$\")\n",
        "plt.title(\"$p = {}$\".format(p))\n",
        "plt.legend()\n",
        "plt.savefig(\"GP.pdf\")"
      ],
      "execution_count": null,
      "outputs": []
    },
    {
      "cell_type": "code",
      "metadata": {
        "id": "UnCvoehCrDNT"
      },
      "source": [
        "# make things for a cross-validation demo figure\n",
        "p = 15\n",
        "X, omegas = fourier_design_matrix(ts, deltaomega, p)\n",
        "beta = train_feature_weighted_ols(X, Y, weight_function(omegas, width))\n",
        "betas = np.zeros((n, p))\n",
        "for i in range(n):\n",
        "  ts_loo, Y_loo = np.delete(ts, i), np.delete(Y, i)\n",
        "  X, omegas= fourier_design_matrix(ts_loo, deltaomega, p)\n",
        "  betas[i] = train_feature_weighted_ols(X, Y_loo, weight_function(omegas, width))"
      ],
      "execution_count": null,
      "outputs": []
    },
    {
      "cell_type": "code",
      "metadata": {
        "id": "hqBeIWtOs64K"
      },
      "source": [
        "plotX, _ = fourier_design_matrix(plott, deltaomega, p)\n",
        "plt.plot(ts, Y, \"ko\", zorder=100, label=\"data points\")\n",
        "# plt.plot(plott, plotX @ beta, \"k-\", alpha=0.9, label=\"feature-weighted OLS using all points\")\n",
        "for i in range(n):\n",
        "  label, label2 = None, None\n",
        "  if i == 0:\n",
        "    label = \"leave-one-out fits\"\n",
        "    label2 = \"predictions of held-out data points\"\n",
        "  plt.plot(plott, plotX @ betas[i], ls=\"-\", color=(0.2, 0.2, 0.2), alpha=0.5, lw=0.5, label=label)\n",
        "  oneX, _ = fourier_design_matrix(ts[i], deltaomega, p)\n",
        "  plt.plot(ts[i], oneX @ betas[i], \"ko\", mfc=\"w\", mec=(0.4, 0.4, 0.4), label=label2)\n",
        "plt.ylabel(\"$y$\")\n",
        "plt.xlim(0., T)\n",
        "plt.ylim(np.min(Y)-1., np.max(Y)+1.)\n",
        "plt.xlabel(\"$t$\")\n",
        "plt.title(\"$p = {}$\".format(p))\n",
        "plt.legend()\n",
        "plt.savefig(\"LOO.pdf\")"
      ],
      "execution_count": null,
      "outputs": []
    },
    {
      "cell_type": "code",
      "metadata": {
        "id": "e08mVmwduTbE"
      },
      "source": [
        "# make things for a jackknife figure\n",
        "p = 5\n",
        "X, omegas = fourier_design_matrix(ts, deltaomega, p)\n",
        "beta = train_feature_weighted_ols(X, Y, weight_function(omegas, width))\n",
        "betas = np.zeros((n, p))\n",
        "for i in range(n):\n",
        "  ts_loo, Y_loo = np.delete(ts, i), np.delete(Y, i)\n",
        "  X, omegas= fourier_design_matrix(ts_loo, deltaomega, p)\n",
        "  betas[i] = train_feature_weighted_ols(X, Y_loo, weight_function(omegas, width))"
      ],
      "execution_count": null,
      "outputs": []
    },
    {
      "cell_type": "code",
      "metadata": {
        "id": "KWhhBWZap71E"
      },
      "source": [
        "plotX, _ = fourier_design_matrix(plott, deltaomega, p)\n",
        "meanyhat = np.mean(plotX @ betas.T, axis=1)\n",
        "varyhat = ((n - 1) / n) * np.sum((plotX @ betas.T - meanyhat[:, None]) ** 2, axis=1)\n",
        "plt.plot(ts, Y, \"ko\", zorder=100)\n",
        "for i in range(n):\n",
        "  label = None\n",
        "  if i == 0:\n",
        "    label = \"leave-one-out fits\"\n",
        "  plt.plot(plott, plotX @ betas[i], ls=\"-\", color=(0.2, 0.2, 0.2), alpha=0.5, lw=0.5, label=label, zorder=50)\n",
        "plt.fill_between(plott, meanyhat + np.sqrt(varyhat),\n",
        "                 meanyhat - np.sqrt(varyhat), color=\"orange\", alpha=0.4,\n",
        "                 label=\"jackknife-estimated one-sigma region\")\n",
        "plt.ylabel(\"$y$\")\n",
        "plt.xlim(0., T)\n",
        "plt.ylim(np.min(Y)-1., np.max(Y)+1.)\n",
        "plt.xlabel(\"$t$\")\n",
        "plt.title(\"$p = {}$\".format(p))\n",
        "plt.legend(loc=\"upper center\")\n",
        "plt.savefig(\"uncertainty.pdf\")"
      ],
      "execution_count": null,
      "outputs": []
    },
    {
      "cell_type": "code",
      "metadata": {
        "id": "ESqXLLd_ag3V"
      },
      "source": [
        "# list of p values to try\n",
        "ps = np.unique(np.round(np.exp(np.arange(np.log(1.), np.log(257.), 0.20 * np.log(2.))).astype(int)))\n",
        "print(ps)"
      ],
      "execution_count": null,
      "outputs": []
    },
    {
      "cell_type": "code",
      "metadata": {
        "id": "o2szeiLukalb"
      },
      "source": [
        "# now do all LOO CV tests\n",
        "n = len(ts)\n",
        "loo_errors = np.zeros((len(ps), n)) + np.nan\n",
        "loo_errors_gp = np.zeros(n) + np.nan\n",
        "loo_errors_null = np.zeros(n) + np.nan\n",
        "loo_errors_ridge = np.zeros((len(ps), n)) + np.nan\n",
        "conds = np.zeros(len(ps)) + np.nan\n",
        "for j, pp in enumerate(ps):\n",
        "  if pp == 1:\n",
        "    conds[j] = 1\n",
        "  else:\n",
        "    X, omegas = fourier_design_matrix(ts, deltaomega, pp)\n",
        "    eigs = np.linalg.eigvalsh(X * weight_function(omegas, width)[None, :] @ X.T)[::-1]\n",
        "    minnp = min(n, pp) - 1\n",
        "    conds[j] = eigs[0] / eigs[minnp]\n",
        "  for i in range(1, n-1):\n",
        "    ts_loo, Y_loo = np.delete(ts, i), np.delete(Y, i)\n",
        "    X, omegas= fourier_design_matrix(ts_loo, deltaomega, pp)\n",
        "    beta = train_feature_weighted_ols(X, Y_loo, weight_function(omegas, width))\n",
        "    xi, _ = fourier_design_matrix(ts[i], deltaomega, pp)\n",
        "    loo_errors[j, i] = xi @ beta - Y[i]\n",
        "    beta_ridge = train_ridge(X, Y_loo, lamb)\n",
        "    loo_errors_ridge[j, i] = xi @ beta_ridge - Y[i]\n",
        "    if j == 0:\n",
        "      loo_errors_null[i] = np.mean(Y_loo) - Y[i]\n",
        "      deltats = ts_loo[:, None] - ts_loo[None, :]\n",
        "      kernel_matrix = kernel_function(deltats, width)\n",
        "      rectangular_kernel = kernel_function(ts_loo - ts[i], width)\n",
        "      gp_y = rectangular_kernel @ np.linalg.lstsq(kernel_matrix, Y_loo, rcond=RCOND)[0]\n",
        "      loo_errors_gp[i] = gp_y - Y[i]"
      ],
      "execution_count": null,
      "outputs": []
    },
    {
      "cell_type": "code",
      "metadata": {
        "id": "WinaaDMzmlJ2"
      },
      "source": [
        "mses = np.nanmean(loo_errors ** 2, axis=1)\n",
        "ridge = np.nanmean(loo_errors_ridge ** 2, axis=1)\n",
        "gp = np.nanmean(loo_errors_gp ** 2)\n",
        "null = np.nanmean(loo_errors_null ** 2)\n",
        "plt.plot(ps, mses, \"ko\", label=\"OLS with weighted features\", zorder=100)\n",
        "plt.plot(ps, mses, \"k-\", alpha=0.4)\n",
        "plt.plot(ps, ridge, \"k-\", alpha=0.2)\n",
        "plt.plot(ps, ridge, \"ko\", mfc=\"w\", mec=(0.4, 0.4, 0.4), label=r\"ridge regression with $\\lambda = 0.1$\")\n",
        "plt.axvline(n, color=\"b\", alpha=0.2)\n",
        "yl = np.min(mses)\n",
        "plt.text(n, yl, \" $p = n$\", color=\"b\", alpha=0.4)\n",
        "# plt.axhline(null, color=\"k\", alpha=0.2, label = \"null (mean) prediction\")\n",
        "plt.axhline(gp, color=\"r\", lw=4, alpha=0.4, label = \"Gaussian process\")\n",
        "plt.xlim(np.min(ps), np.max(ps))\n",
        "plt.loglog()\n",
        "plt.xlabel(\"$p$\")\n",
        "plt.ylabel(\"mean squared error\")\n",
        "plt.legend()\n",
        "plt.title(\"cross-validation estimates of error\")\n",
        "plt.savefig(\"cross-validation.pdf\")\n",
        "ax = plt.gca()"
      ],
      "execution_count": null,
      "outputs": []
    },
    {
      "cell_type": "code",
      "metadata": {
        "id": "srkrUwilioFr"
      },
      "source": [
        "plt.plot(ps, np.abs(conds), \"ko\")\n",
        "plt.xlim(np.min(ps), np.max(ps))\n",
        "plt.loglog()"
      ],
      "execution_count": null,
      "outputs": []
    },
    {
      "cell_type": "code",
      "metadata": {
        "id": "uO4QcNSxmsao"
      },
      "source": [
        ""
      ],
      "execution_count": null,
      "outputs": []
    }
  ]
}